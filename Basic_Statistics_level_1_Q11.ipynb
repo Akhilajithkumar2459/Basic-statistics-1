{
  "nbformat": 4,
  "nbformat_minor": 0,
  "metadata": {
    "colab": {
      "provenance": [],
      "authorship_tag": "ABX9TyPpw+GeG2VvLvx7UIrtdN8K",
      "include_colab_link": true
    },
    "kernelspec": {
      "name": "python3",
      "display_name": "Python 3"
    },
    "language_info": {
      "name": "python"
    }
  },
  "cells": [
    {
      "cell_type": "markdown",
      "metadata": {
        "id": "view-in-github",
        "colab_type": "text"
      },
      "source": [
        "<a href=\"https://colab.research.google.com/github/DIFFIDENT24/Basic-statistics-1/blob/main/Basic_Statistics_level_1_Q11.ipynb\" target=\"_parent\"><img src=\"https://colab.research.google.com/assets/colab-badge.svg\" alt=\"Open In Colab\"/></a>"
      ]
    },
    {
      "cell_type": "code",
      "execution_count": 51,
      "metadata": {
        "id": "iuKz18rSOMDK"
      },
      "outputs": [],
      "source": [
        "import numpy as np\n",
        "import pandas as pd\n",
        "from scipy import stats\n",
        "from scipy.stats import norm"
      ]
    },
    {
      "cell_type": "code",
      "source": [
        "# Avg. weight of Adult in Mexico with 94% CI\n",
        "CI1=stats.t.interval(0.94,\n",
        "                 df=1999,\n",
        "                 loc=200,\n",
        "                 scale=30/(np.sqrt(2000)))\n",
        "print(\"Avg. weight of Adult in Mexico with 94% CI is :\",CI1)"
      ],
      "metadata": {
        "colab": {
          "base_uri": "https://localhost:8080/"
        },
        "id": "1YOKgXoEVrMu",
        "outputId": "28d84581-a759-4ed8-a04f-8c36de1b2b1d"
      },
      "execution_count": 52,
      "outputs": [
        {
          "output_type": "stream",
          "name": "stdout",
          "text": [
            "Avg. weight of Adult in Mexico with 94% CI is : (198.7376089443071, 201.2623910556929)\n"
          ]
        }
      ]
    },
    {
      "cell_type": "code",
      "source": [
        "# Avg. weight of Adult in Mexico with 96% CI\n",
        "CI2=stats.t.interval(0.96,\n",
        "                 df=1999,\n",
        "                 loc=200,\n",
        "                 scale=30/(np.sqrt(2000)))\n",
        "print(\"Avg. weight of Adult in Mexico with 96% CI is :\",CI2)"
      ],
      "metadata": {
        "colab": {
          "base_uri": "https://localhost:8080/"
        },
        "id": "qyzZGMu_Vtsj",
        "outputId": "fe1355d4-e63c-45e9-adf3-fa40fad83464"
      },
      "execution_count": 53,
      "outputs": [
        {
          "output_type": "stream",
          "name": "stdout",
          "text": [
            "Avg. weight of Adult in Mexico with 96% CI is : (198.6214037429732, 201.3785962570268)\n"
          ]
        }
      ]
    },
    {
      "cell_type": "code",
      "source": [
        "# Avg. weight of Adult in Mexico with 98% CI\n",
        "CI3=stats.t.interval(0.98,\n",
        "                 df=1999,\n",
        "                 loc=200,\n",
        "                 scale=30/(np.sqrt(2000)))\n",
        "print(\"Avg. weight of Adult in Mexico with 98% CI is :\",CI3)"
      ],
      "metadata": {
        "colab": {
          "base_uri": "https://localhost:8080/"
        },
        "id": "JoIMkbpBVvhp",
        "outputId": "6ec2ac79-226c-41ec-ce6a-a440d24d242b"
      },
      "execution_count": 54,
      "outputs": [
        {
          "output_type": "stream",
          "name": "stdout",
          "text": [
            "Avg. weight of Adult in Mexico with 98% CI is : (198.4381860483216, 201.5618139516784)\n"
          ]
        }
      ]
    }
  ]
}